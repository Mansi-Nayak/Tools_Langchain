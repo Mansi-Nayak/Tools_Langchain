{
  "nbformat": 4,
  "nbformat_minor": 0,
  "metadata": {
    "colab": {
      "provenance": [],
      "authorship_tag": "ABX9TyORplg+sdkV33Slz6G99vCo",
      "include_colab_link": true
    },
    "kernelspec": {
      "name": "python3",
      "display_name": "Python 3"
    },
    "language_info": {
      "name": "python"
    }
  },
  "cells": [
    {
      "cell_type": "markdown",
      "metadata": {
        "id": "view-in-github",
        "colab_type": "text"
      },
      "source": [
        "<a href=\"https://colab.research.google.com/github/Mansi-Nayak/Tools_Langchain/blob/main/Tools_Langchain.ipynb\" target=\"_parent\"><img src=\"https://colab.research.google.com/assets/colab-badge.svg\" alt=\"Open In Colab\"/></a>"
      ]
    },
    {
      "cell_type": "code",
      "execution_count": null,
      "metadata": {
        "id": "N--QwQKtNkth"
      },
      "outputs": [],
      "source": [
        "\"\"\"\n",
        "This script demonstrates how to create, invoke, and organize custom tools using LangChain's tooling system.\n",
        "It starts by installing necessary dependencies including LangChain modules and DuckDuckGo search tools.\n",
        "Then, it invokes a web search tool (`DuckDuckGoSearchRun`) to fetch the top news in India and displays the output.\n",
        "It also uses the `ShellTool` to run basic shell commands (like `ls`) from Python in a controlled environment.\n",
        "The script defines a basic `multiply` function and gradually converts it into a LangChain-compatible tool:\n",
        "  - First by adding type hints,\n",
        "  - Then by decorating it using `@tool`,\n",
        "  - Then wrapping it into a `StructuredTool` with a Pydantic input schema,\n",
        "  - Finally building a custom tool class by extending `BaseTool`.\n",
        "Each version of the tool is invoked and its output, name, and descriptions are printed to show how tools are represented.\n",
        "Additionally, the script creates multiple math tools (`add` and `multiply`) and bundles them inside a custom toolkit class.\n",
        "This is useful in agent-based systems where tools can be exposed to LLM agents for interaction.\n",
        "Overall, the code showcases how LangChain supports structured, schema-driven, reusable tool creation in Python.\n",
        "\"\"\""
      ]
    },
    {
      "cell_type": "code",
      "source": [
        "!pip install langchain langchain-core langchain-community pydantic duckduckgo-search langchain_experimental"
      ],
      "metadata": {
        "colab": {
          "base_uri": "https://localhost:8080/"
        },
        "id": "zWFh8tpRCbxB",
        "outputId": "b6032c37-8863-4752-9451-cd56badd8ee5"
      },
      "execution_count": null,
      "outputs": [
        {
          "output_type": "stream",
          "name": "stdout",
          "text": [
            "Requirement already satisfied: langchain in /usr/local/lib/python3.11/dist-packages (0.3.26)\n",
            "Requirement already satisfied: langchain-core in /usr/local/lib/python3.11/dist-packages (0.3.66)\n",
            "Requirement already satisfied: langchain-community in /usr/local/lib/python3.11/dist-packages (0.3.26)\n",
            "Requirement already satisfied: pydantic in /usr/local/lib/python3.11/dist-packages (2.11.7)\n",
            "Collecting duckduckgo-search\n",
            "  Downloading duckduckgo_search-8.0.4-py3-none-any.whl.metadata (16 kB)\n",
            "Collecting langchain_experimental\n",
            "  Downloading langchain_experimental-0.3.4-py3-none-any.whl.metadata (1.7 kB)\n",
            "Requirement already satisfied: langchain-text-splitters<1.0.0,>=0.3.8 in /usr/local/lib/python3.11/dist-packages (from langchain) (0.3.8)\n",
            "Requirement already satisfied: langsmith>=0.1.17 in /usr/local/lib/python3.11/dist-packages (from langchain) (0.3.45)\n",
            "Requirement already satisfied: SQLAlchemy<3,>=1.4 in /usr/local/lib/python3.11/dist-packages (from langchain) (2.0.41)\n",
            "Requirement already satisfied: requests<3,>=2 in /usr/local/lib/python3.11/dist-packages (from langchain) (2.32.3)\n",
            "Requirement already satisfied: PyYAML>=5.3 in /usr/local/lib/python3.11/dist-packages (from langchain) (6.0.2)\n",
            "Requirement already satisfied: tenacity!=8.4.0,<10.0.0,>=8.1.0 in /usr/local/lib/python3.11/dist-packages (from langchain-core) (9.1.2)\n",
            "Requirement already satisfied: jsonpatch<2.0,>=1.33 in /usr/local/lib/python3.11/dist-packages (from langchain-core) (1.33)\n",
            "Requirement already satisfied: packaging<25,>=23.2 in /usr/local/lib/python3.11/dist-packages (from langchain-core) (24.2)\n",
            "Requirement already satisfied: typing-extensions>=4.7 in /usr/local/lib/python3.11/dist-packages (from langchain-core) (4.14.0)\n",
            "Requirement already satisfied: aiohttp<4.0.0,>=3.8.3 in /usr/local/lib/python3.11/dist-packages (from langchain-community) (3.11.15)\n",
            "Requirement already satisfied: dataclasses-json<0.7,>=0.5.7 in /usr/local/lib/python3.11/dist-packages (from langchain-community) (0.6.7)\n",
            "Requirement already satisfied: pydantic-settings<3.0.0,>=2.4.0 in /usr/local/lib/python3.11/dist-packages (from langchain-community) (2.10.0)\n",
            "Requirement already satisfied: httpx-sse<1.0.0,>=0.4.0 in /usr/local/lib/python3.11/dist-packages (from langchain-community) (0.4.0)\n",
            "Requirement already satisfied: numpy>=1.26.2 in /usr/local/lib/python3.11/dist-packages (from langchain-community) (2.0.2)\n",
            "Requirement already satisfied: annotated-types>=0.6.0 in /usr/local/lib/python3.11/dist-packages (from pydantic) (0.7.0)\n",
            "Requirement already satisfied: pydantic-core==2.33.2 in /usr/local/lib/python3.11/dist-packages (from pydantic) (2.33.2)\n",
            "Requirement already satisfied: typing-inspection>=0.4.0 in /usr/local/lib/python3.11/dist-packages (from pydantic) (0.4.1)\n",
            "Requirement already satisfied: click>=8.1.8 in /usr/local/lib/python3.11/dist-packages (from duckduckgo-search) (8.2.1)\n",
            "Collecting primp>=0.15.0 (from duckduckgo-search)\n",
            "  Downloading primp-0.15.0-cp38-abi3-manylinux_2_17_x86_64.manylinux2014_x86_64.whl.metadata (13 kB)\n",
            "Requirement already satisfied: lxml>=5.3.0 in /usr/local/lib/python3.11/dist-packages (from duckduckgo-search) (5.4.0)\n",
            "Requirement already satisfied: aiohappyeyeballs>=2.3.0 in /usr/local/lib/python3.11/dist-packages (from aiohttp<4.0.0,>=3.8.3->langchain-community) (2.6.1)\n",
            "Requirement already satisfied: aiosignal>=1.1.2 in /usr/local/lib/python3.11/dist-packages (from aiohttp<4.0.0,>=3.8.3->langchain-community) (1.3.2)\n",
            "Requirement already satisfied: attrs>=17.3.0 in /usr/local/lib/python3.11/dist-packages (from aiohttp<4.0.0,>=3.8.3->langchain-community) (25.3.0)\n",
            "Requirement already satisfied: frozenlist>=1.1.1 in /usr/local/lib/python3.11/dist-packages (from aiohttp<4.0.0,>=3.8.3->langchain-community) (1.7.0)\n",
            "Requirement already satisfied: multidict<7.0,>=4.5 in /usr/local/lib/python3.11/dist-packages (from aiohttp<4.0.0,>=3.8.3->langchain-community) (6.4.4)\n",
            "Requirement already satisfied: propcache>=0.2.0 in /usr/local/lib/python3.11/dist-packages (from aiohttp<4.0.0,>=3.8.3->langchain-community) (0.3.2)\n",
            "Requirement already satisfied: yarl<2.0,>=1.17.0 in /usr/local/lib/python3.11/dist-packages (from aiohttp<4.0.0,>=3.8.3->langchain-community) (1.20.1)\n",
            "Requirement already satisfied: marshmallow<4.0.0,>=3.18.0 in /usr/local/lib/python3.11/dist-packages (from dataclasses-json<0.7,>=0.5.7->langchain-community) (3.26.1)\n",
            "Requirement already satisfied: typing-inspect<1,>=0.4.0 in /usr/local/lib/python3.11/dist-packages (from dataclasses-json<0.7,>=0.5.7->langchain-community) (0.9.0)\n",
            "Requirement already satisfied: jsonpointer>=1.9 in /usr/local/lib/python3.11/dist-packages (from jsonpatch<2.0,>=1.33->langchain-core) (3.0.0)\n",
            "Requirement already satisfied: httpx<1,>=0.23.0 in /usr/local/lib/python3.11/dist-packages (from langsmith>=0.1.17->langchain) (0.28.1)\n",
            "Requirement already satisfied: orjson<4.0.0,>=3.9.14 in /usr/local/lib/python3.11/dist-packages (from langsmith>=0.1.17->langchain) (3.10.18)\n",
            "Requirement already satisfied: requests-toolbelt<2.0.0,>=1.0.0 in /usr/local/lib/python3.11/dist-packages (from langsmith>=0.1.17->langchain) (1.0.0)\n",
            "Requirement already satisfied: zstandard<0.24.0,>=0.23.0 in /usr/local/lib/python3.11/dist-packages (from langsmith>=0.1.17->langchain) (0.23.0)\n",
            "Requirement already satisfied: python-dotenv>=0.21.0 in /usr/local/lib/python3.11/dist-packages (from pydantic-settings<3.0.0,>=2.4.0->langchain-community) (1.1.0)\n",
            "Requirement already satisfied: charset-normalizer<4,>=2 in /usr/local/lib/python3.11/dist-packages (from requests<3,>=2->langchain) (3.4.2)\n",
            "Requirement already satisfied: idna<4,>=2.5 in /usr/local/lib/python3.11/dist-packages (from requests<3,>=2->langchain) (3.10)\n",
            "Requirement already satisfied: urllib3<3,>=1.21.1 in /usr/local/lib/python3.11/dist-packages (from requests<3,>=2->langchain) (2.4.0)\n",
            "Requirement already satisfied: certifi>=2017.4.17 in /usr/local/lib/python3.11/dist-packages (from requests<3,>=2->langchain) (2025.6.15)\n",
            "Requirement already satisfied: greenlet>=1 in /usr/local/lib/python3.11/dist-packages (from SQLAlchemy<3,>=1.4->langchain) (3.2.3)\n",
            "Requirement already satisfied: anyio in /usr/local/lib/python3.11/dist-packages (from httpx<1,>=0.23.0->langsmith>=0.1.17->langchain) (4.9.0)\n",
            "Requirement already satisfied: httpcore==1.* in /usr/local/lib/python3.11/dist-packages (from httpx<1,>=0.23.0->langsmith>=0.1.17->langchain) (1.0.9)\n",
            "Requirement already satisfied: h11>=0.16 in /usr/local/lib/python3.11/dist-packages (from httpcore==1.*->httpx<1,>=0.23.0->langsmith>=0.1.17->langchain) (0.16.0)\n",
            "Requirement already satisfied: mypy-extensions>=0.3.0 in /usr/local/lib/python3.11/dist-packages (from typing-inspect<1,>=0.4.0->dataclasses-json<0.7,>=0.5.7->langchain-community) (1.1.0)\n",
            "Requirement already satisfied: sniffio>=1.1 in /usr/local/lib/python3.11/dist-packages (from anyio->httpx<1,>=0.23.0->langsmith>=0.1.17->langchain) (1.3.1)\n",
            "Downloading duckduckgo_search-8.0.4-py3-none-any.whl (18 kB)\n",
            "Downloading langchain_experimental-0.3.4-py3-none-any.whl (209 kB)\n",
            "\u001b[2K   \u001b[90m━━━━━━━━━━━━━━━━━━━━━━━━━━━━━━━━━━━━━━━━\u001b[0m \u001b[32m209.2/209.2 kB\u001b[0m \u001b[31m7.6 MB/s\u001b[0m eta \u001b[36m0:00:00\u001b[0m\n",
            "\u001b[?25hDownloading primp-0.15.0-cp38-abi3-manylinux_2_17_x86_64.manylinux2014_x86_64.whl (3.3 MB)\n",
            "\u001b[2K   \u001b[90m━━━━━━━━━━━━━━━━━━━━━━━━━━━━━━━━━━━━━━━━\u001b[0m \u001b[32m3.3/3.3 MB\u001b[0m \u001b[31m74.8 MB/s\u001b[0m eta \u001b[36m0:00:00\u001b[0m\n",
            "\u001b[?25hInstalling collected packages: primp, duckduckgo-search, langchain_experimental\n",
            "Successfully installed duckduckgo-search-8.0.4 langchain_experimental-0.3.4 primp-0.15.0\n"
          ]
        }
      ]
    },
    {
      "cell_type": "markdown",
      "source": [
        "# **Built-in Tool - DuckDuckGo Search**"
      ],
      "metadata": {
        "id": "-_k0_XRfC5lL"
      }
    },
    {
      "cell_type": "code",
      "source": [
        "from langchain_community.tools import DuckDuckGoSearchRun\n",
        "\n",
        "search_tool = DuckDuckGoSearchRun()\n",
        "\n",
        "results = search_tool.invoke('top news in india today')\n",
        "\n",
        "print(results)"
      ],
      "metadata": {
        "colab": {
          "base_uri": "https://localhost:8080/"
        },
        "id": "Q5SvBJ3nCfnz",
        "outputId": "f01bda24-c211-4786-8002-bc7e1de986f0"
      },
      "execution_count": null,
      "outputs": [
        {
          "output_type": "stream",
          "name": "stdout",
          "text": [
            "Get updated with current top news stories from India and the world only on Zee News. Zee News brings latest news from India and World on breaking news, today news headlines, politics, business, technology, bollywood, entertainment, sports and others. Find exclusive news stories on Indian politics, current affairs, cricket matches, festivals and ... The last rites of Irfan Shaikh (22), a crew member of the Air India flight AI 171 that crashed in Ahmedabad, were performed on Saturday in Nehru Nagar, Pimpri Chinchwad, Maharashtra. India News | Latest India News | Read latest and breaking news from India. Today's top India news headlines, news on Indian politics, elections, government, business, technology, and Bollywood. Top News Today. 0 / 0. The Hindu. About ... News India News Hyderabad news Bengaluru News Sports, IPL 2025 News Delhi news Live news Entertainment news Sitemap Trending on Group sites. Stock ... The tightrope: India walks a diplomatic tightrope as it has ties with both Iran and Israel — and now, the US — to protect. In a phone call with Iranian President Masoud Pezeshkian, Prime Minister Narendra Modi urged for de-escalation, an appeal echoed by world leaders across the globe. The conflict also threatens to upend India's military capabilities if it stretches on.\n"
          ]
        }
      ]
    },
    {
      "cell_type": "code",
      "source": [
        "print(search_tool.name)\n",
        "print(search_tool.description)\n",
        "print(search_tool.args)"
      ],
      "metadata": {
        "colab": {
          "base_uri": "https://localhost:8080/"
        },
        "id": "lrtt67eVCqaI",
        "outputId": "5a7eb8e2-9a9b-4eb7-b6c6-85949cd00dcf"
      },
      "execution_count": null,
      "outputs": [
        {
          "output_type": "stream",
          "name": "stdout",
          "text": [
            "duckduckgo_search\n",
            "A wrapper around DuckDuckGo Search. Useful for when you need to answer questions about current events. Input should be a search query.\n",
            "{'query': {'description': 'search query to look up', 'title': 'Query', 'type': 'string'}}\n"
          ]
        }
      ]
    },
    {
      "cell_type": "markdown",
      "source": [
        "# **Built-in Tool - Shell Tool**"
      ],
      "metadata": {
        "id": "9DW9qPUzDXxG"
      }
    },
    {
      "cell_type": "code",
      "source": [
        "from langchain_community.tools import ShellTool\n",
        "\n",
        "shell_tool = ShellTool()\n",
        "\n",
        "results = shell_tool.invoke('ls')\n",
        "\n",
        "print(results)"
      ],
      "metadata": {
        "colab": {
          "base_uri": "https://localhost:8080/"
        },
        "id": "53vVvvW7CuEK",
        "outputId": "230fb47b-e891-4ea6-fb46-d7cd92fce5ef"
      },
      "execution_count": null,
      "outputs": [
        {
          "output_type": "stream",
          "name": "stdout",
          "text": [
            "Executing command:\n",
            " ls\n",
            "sample_data\n",
            "\n"
          ]
        },
        {
          "output_type": "stream",
          "name": "stderr",
          "text": [
            "/usr/local/lib/python3.11/dist-packages/langchain_community/tools/shell/tool.py:33: UserWarning: The shell tool has no safeguards by default. Use at your own risk.\n",
            "  warnings.warn(\n"
          ]
        }
      ]
    },
    {
      "cell_type": "markdown",
      "source": [
        "# **Custom Tools**"
      ],
      "metadata": {
        "id": "VNzkwjcVDryw"
      }
    },
    {
      "cell_type": "code",
      "source": [
        "from langchain_core.tools import tool"
      ],
      "metadata": {
        "id": "vkpVKegWCy3V"
      },
      "execution_count": null,
      "outputs": []
    },
    {
      "cell_type": "code",
      "source": [
        "# Step 1 - create a function\n",
        "\n",
        "def multiply(a, b):\n",
        "    \"\"\"Multiply two numbers\"\"\"\n",
        "    return a*b"
      ],
      "metadata": {
        "id": "EJ8bdphqD1g8"
      },
      "execution_count": null,
      "outputs": []
    },
    {
      "cell_type": "code",
      "source": [
        "# Step 2 - add type hints\n",
        "\n",
        "def multiply(a: int, b:int) -> int:\n",
        "    \"\"\"Multiply two numbers\"\"\"\n",
        "    return a*b"
      ],
      "metadata": {
        "id": "OM76wHiED5F7"
      },
      "execution_count": null,
      "outputs": []
    },
    {
      "cell_type": "code",
      "source": [
        "# Step 3 - add tool decorator\n",
        "\n",
        "@tool\n",
        "def multiply(a: int, b:int) -> int:\n",
        "    \"\"\"Multiply two numbers\"\"\"\n",
        "    return a*b"
      ],
      "metadata": {
        "id": "hWBIFm5dD7X0"
      },
      "execution_count": null,
      "outputs": []
    },
    {
      "cell_type": "code",
      "source": [
        "result = multiply.invoke({\"a\":3, \"b\":5})"
      ],
      "metadata": {
        "id": "rsWqLzzeD-vT"
      },
      "execution_count": null,
      "outputs": []
    },
    {
      "cell_type": "code",
      "source": [
        "print(result)"
      ],
      "metadata": {
        "colab": {
          "base_uri": "https://localhost:8080/"
        },
        "id": "6XN6PyxoEBdB",
        "outputId": "ce7b70ed-783e-40cc-e4ff-1063d72574f0"
      },
      "execution_count": null,
      "outputs": [
        {
          "output_type": "stream",
          "name": "stdout",
          "text": [
            "15\n"
          ]
        }
      ]
    },
    {
      "cell_type": "code",
      "source": [
        "print(multiply.name)\n",
        "print(multiply.description)\n",
        "print(multiply.args)"
      ],
      "metadata": {
        "colab": {
          "base_uri": "https://localhost:8080/"
        },
        "id": "HycOVrWZEESG",
        "outputId": "8fd81abd-6fe1-4bb7-ad7e-26e400ff62d7"
      },
      "execution_count": null,
      "outputs": [
        {
          "output_type": "stream",
          "name": "stdout",
          "text": [
            "multiply\n",
            "Multiply two numbers\n",
            "{'a': {'title': 'A', 'type': 'integer'}, 'b': {'title': 'B', 'type': 'integer'}}\n"
          ]
        }
      ]
    },
    {
      "cell_type": "code",
      "source": [
        "print(multiply.args_schema.model_json_schema())"
      ],
      "metadata": {
        "colab": {
          "base_uri": "https://localhost:8080/"
        },
        "id": "UAO2lsZAEHD1",
        "outputId": "38b8e6b5-4a50-4ba5-f4b2-d4c59ed89175"
      },
      "execution_count": null,
      "outputs": [
        {
          "output_type": "stream",
          "name": "stdout",
          "text": [
            "{'description': 'Multiply two numbers', 'properties': {'a': {'title': 'A', 'type': 'integer'}, 'b': {'title': 'B', 'type': 'integer'}}, 'required': ['a', 'b'], 'title': 'multiply', 'type': 'object'}\n"
          ]
        }
      ]
    },
    {
      "cell_type": "markdown",
      "source": [
        "# **Method 2 - Using StructuredTool**"
      ],
      "metadata": {
        "id": "r_wXy3ETEU3E"
      }
    },
    {
      "cell_type": "code",
      "source": [
        "from langchain.tools import StructuredTool\n",
        "from pydantic import BaseModel, Field"
      ],
      "metadata": {
        "id": "UImnsX_VEKE5"
      },
      "execution_count": null,
      "outputs": []
    },
    {
      "cell_type": "code",
      "source": [
        "class MultiplyInput(BaseModel):\n",
        "    a: int = Field(required=True, description=\"The first number to add\")\n",
        "    b: int = Field(required=True, description=\"The second number to add\")"
      ],
      "metadata": {
        "id": "0kRGTLLhEbiI"
      },
      "execution_count": null,
      "outputs": []
    },
    {
      "cell_type": "code",
      "source": [
        "def multiply_func(a: int, b: int) -> int:\n",
        "    return a * b"
      ],
      "metadata": {
        "id": "XBMhA5bYEeAt"
      },
      "execution_count": null,
      "outputs": []
    },
    {
      "cell_type": "code",
      "source": [
        "multiply_tool = StructuredTool.from_function(\n",
        "    func=multiply_func,\n",
        "    name=\"multiply\",\n",
        "    description=\"Multiply two numbers\",\n",
        "    args_schema=MultiplyInput\n",
        ")"
      ],
      "metadata": {
        "id": "K7yubm80EgnE"
      },
      "execution_count": null,
      "outputs": []
    },
    {
      "cell_type": "code",
      "source": [
        "result = multiply_tool.invoke({'a':3, 'b':3})\n",
        "\n",
        "print(result)\n",
        "print(multiply_tool.name)\n",
        "print(multiply_tool.description)\n",
        "print(multiply_tool.args)"
      ],
      "metadata": {
        "colab": {
          "base_uri": "https://localhost:8080/"
        },
        "id": "5ZHi3ObLEkaP",
        "outputId": "1ab3a973-8c7b-4ffd-d25f-4760aacc98ae"
      },
      "execution_count": null,
      "outputs": [
        {
          "output_type": "stream",
          "name": "stdout",
          "text": [
            "9\n",
            "multiply\n",
            "Multiply two numbers\n",
            "{'a': {'description': 'The first number to add', 'required': True, 'title': 'A', 'type': 'integer'}, 'b': {'description': 'The second number to add', 'required': True, 'title': 'B', 'type': 'integer'}}\n"
          ]
        }
      ]
    },
    {
      "cell_type": "markdown",
      "source": [
        "# **Method 3 - Using BaseTool Class**"
      ],
      "metadata": {
        "id": "X_wCK-aIEoSx"
      }
    },
    {
      "cell_type": "code",
      "source": [
        "from langchain.tools import BaseTool\n",
        "from typing import Type"
      ],
      "metadata": {
        "id": "TRJ4GWveEnI1"
      },
      "execution_count": null,
      "outputs": []
    },
    {
      "cell_type": "code",
      "source": [
        "# arg schema using pydantic\n",
        "\n",
        "class MultiplyInput(BaseModel):\n",
        "    a: int = Field(required=True, description=\"The first number to add\")\n",
        "    b: int = Field(required=True, description=\"The second number to add\")"
      ],
      "metadata": {
        "id": "-_pvhZ3zE6xS"
      },
      "execution_count": null,
      "outputs": []
    },
    {
      "cell_type": "code",
      "source": [
        "class MultiplyTool(BaseTool):\n",
        "    name: str = \"multiply\"\n",
        "    description: str = \"Multiply two numbers\"\n",
        "\n",
        "    args_schema: Type[BaseModel] = MultiplyInput\n",
        "\n",
        "    def _run(self, a: int, b: int) -> int:\n",
        "        return a * b"
      ],
      "metadata": {
        "id": "jw3wfuR1GJwd"
      },
      "execution_count": null,
      "outputs": []
    },
    {
      "cell_type": "code",
      "source": [
        "multiply_tool = MultiplyTool()"
      ],
      "metadata": {
        "id": "92pkR6wAGa7h"
      },
      "execution_count": null,
      "outputs": []
    },
    {
      "cell_type": "code",
      "source": [
        "result = multiply_tool.invoke({'a':3, 'b':3})\n",
        "\n",
        "print(result)\n",
        "print(multiply_tool.name)\n",
        "print(multiply_tool.description)\n",
        "\n",
        "print(multiply_tool.args)"
      ],
      "metadata": {
        "colab": {
          "base_uri": "https://localhost:8080/"
        },
        "id": "CslZ7CHdGcua",
        "outputId": "522937f7-7d54-4386-abdc-fdd248998c89"
      },
      "execution_count": null,
      "outputs": [
        {
          "output_type": "stream",
          "name": "stdout",
          "text": [
            "9\n",
            "multiply\n",
            "Multiply two numbers\n",
            "{'a': {'description': 'The first number to add', 'required': True, 'title': 'A', 'type': 'integer'}, 'b': {'description': 'The second number to add', 'required': True, 'title': 'B', 'type': 'integer'}}\n"
          ]
        }
      ]
    },
    {
      "cell_type": "markdown",
      "source": [
        "# **Toolkit**"
      ],
      "metadata": {
        "id": "a8KXMh94Gg17"
      }
    },
    {
      "cell_type": "code",
      "source": [
        "from langchain_core.tools import tool\n",
        "\n",
        "# Custom tools\n",
        "@tool\n",
        "def add(a: int, b: int) -> int:\n",
        "    \"\"\"Add two numbers\"\"\"\n",
        "    return a + b\n",
        "\n",
        "@tool\n",
        "def multiply(a: int, b: int) -> int:\n",
        "    \"\"\"Multiply two numbers\"\"\"\n",
        "    return a * b\n"
      ],
      "metadata": {
        "id": "rizKzMjKGemn"
      },
      "execution_count": null,
      "outputs": []
    },
    {
      "cell_type": "code",
      "source": [
        "class MathToolkit:\n",
        "    def get_tools(self):\n",
        "        return [add, multiply]"
      ],
      "metadata": {
        "id": "-Cox0NNvGnkC"
      },
      "execution_count": null,
      "outputs": []
    },
    {
      "cell_type": "code",
      "source": [
        "toolkit = MathToolkit()\n",
        "tools = toolkit.get_tools()\n",
        "\n",
        "for tool in tools:\n",
        "    print(tool.name, \"=>\", tool.description)\n"
      ],
      "metadata": {
        "colab": {
          "base_uri": "https://localhost:8080/"
        },
        "id": "w5fTHGqwGqW_",
        "outputId": "c05c86a1-18e3-427b-a56e-25b0019d43ee"
      },
      "execution_count": null,
      "outputs": [
        {
          "output_type": "stream",
          "name": "stdout",
          "text": [
            "add => Add two numbers\n",
            "multiply => Multiply two numbers\n"
          ]
        }
      ]
    },
    {
      "cell_type": "code",
      "source": [],
      "metadata": {
        "id": "ZNzH26kBGtCA"
      },
      "execution_count": null,
      "outputs": []
    }
  ]
}