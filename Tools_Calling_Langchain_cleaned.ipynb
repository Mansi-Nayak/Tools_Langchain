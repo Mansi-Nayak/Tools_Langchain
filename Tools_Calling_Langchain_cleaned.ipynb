{
  "cells": [
    {
      "cell_type": "markdown",
      "metadata": {
        "id": "view-in-github",
        "colab_type": "text"
      },
      "source": [
        "<a href=\"https://colab.research.google.com/github/Mansi-Nayak/Tools_Langchain/blob/main/Tools_Calling_Langchain_cleaned.ipynb\" target=\"_parent\"><img src=\"https://colab.research.google.com/assets/colab-badge.svg\" alt=\"Open In Colab\"/></a>"
      ]
    },
    {
      "cell_type": "code",
      "execution_count": null,
      "metadata": {
        "id": "BzNoV5cJOf58"
      },
      "outputs": [],
      "source": [
        "\"\"\"\n",
        "This script demonstrates how to build a simple LangChain-based tool-augmented assistant\n",
        "using open-source models that run on CPU and are compatible with Google Colab.\n",
        "\n",
        "Key Features:\n",
        "1. Uses the HuggingFace `flan-t5-small` model for natural language generation.\n",
        "2. Defines custom tools: `multiply` for arithmetic and `convert` for currency conversion.\n",
        "3. Fetches real-time exchange rates via a public API (ExchangeRate-API).\n",
        "4. Implements a `tool_dispatcher` function to detect tool-use intent in user queries.\n",
        "5. Uses regular expressions to extract relevant numbers for processing.\n",
        "6. Automatically chooses and invokes the right tool based on the input.\n",
        "7. Provides natural language responses augmented with tool outputs.\n",
        "8. Separates LLM reasoning from tool execution for reliability.\n",
        "9. Built entirely with open-source libraries: `transformers`, `langchain`, and `requests`.\n",
        "10. CPU-compatible and lightweight — ideal for running in Google Colab or local machines.\n",
        "11. Handles basic math queries such as \"Can you multiply 7 and 12?\"\n",
        "12. Supports currency queries like \"Convert 100 INR to USD\" by chaining API and math.\n",
        "13. Demonstrates prompt + tool chaining in a modular, maintainable way.\n",
        "14. Shows fallback messages when input cannot be interpreted correctly.\n",
        "15. Allows easy extension with more tools in the future.\n",
        "16. Avoids LangChain `bind_tools()` or `agent_executor` complexity.\n",
        "17. Uses `.invoke()` for both LLM and tool calls.\n",
        "18. All components work without requiring OpenAI or GPU access.\n",
        "19. Promotes transparency by showing intermediate tool outputs.\n",
        "20. Educational and customizable — good for beginners learning LangChain with HuggingFace.\n",
        "\"\"\""
      ]
    },
    {
      "cell_type": "code",
      "execution_count": null,
      "metadata": {
        "colab": {
          "base_uri": "https://localhost:8080/"
        },
        "id": "HXeT3X-nOwOL",
        "outputId": "9c51d556-b226-485d-a260-519c3e0d1a7a"
      },
      "outputs": [
        {
          "name": "stdout",
          "output_type": "stream",
          "text": [
            "\u001b[2K   \u001b[90m━━━━━━━━━━━━━━━━━━━━━━━━━━━━━━━━━━━━━━━━\u001b[0m \u001b[32m2.5/2.5 MB\u001b[0m \u001b[31m19.1 MB/s\u001b[0m eta \u001b[36m0:00:00\u001b[0m\n",
            "\u001b[2K   \u001b[90m━━━━━━━━━━━━━━━━━━━━━━━━━━━━━━━━━━━━━━━━\u001b[0m \u001b[32m1.0/1.0 MB\u001b[0m \u001b[31m15.4 MB/s\u001b[0m eta \u001b[36m0:00:00\u001b[0m\n",
            "\u001b[2K   \u001b[90m━━━━━━━━━━━━━━━━━━━━━━━━━━━━━━━━━━━━━━━━\u001b[0m \u001b[32m438.9/438.9 kB\u001b[0m \u001b[31m21.5 MB/s\u001b[0m eta \u001b[36m0:00:00\u001b[0m\n",
            "\u001b[2K   \u001b[90m━━━━━━━━━━━━━━━━━━━━━━━━━━━━━━━━━━━━━━━━\u001b[0m \u001b[32m45.2/45.2 kB\u001b[0m \u001b[31m2.0 MB/s\u001b[0m eta \u001b[36m0:00:00\u001b[0m\n",
            "\u001b[2K   \u001b[90m━━━━━━━━━━━━━━━━━━━━━━━━━━━━━━━━━━━━━━━━\u001b[0m \u001b[32m363.4/363.4 MB\u001b[0m \u001b[31m4.0 MB/s\u001b[0m eta \u001b[36m0:00:00\u001b[0m\n",
            "\u001b[2K   \u001b[90m━━━━━━━━━━━━━━━━━━━━━━━━━━━━━━━━━━━━━━━━\u001b[0m \u001b[32m13.8/13.8 MB\u001b[0m \u001b[31m46.2 MB/s\u001b[0m eta \u001b[36m0:00:00\u001b[0m\n",
            "\u001b[2K   \u001b[90m━━━━━━━━━━━━━━━━━━━━━━━━━━━━━━━━━━━━━━━━\u001b[0m \u001b[32m24.6/24.6 MB\u001b[0m \u001b[31m43.9 MB/s\u001b[0m eta \u001b[36m0:00:00\u001b[0m\n",
            "\u001b[2K   \u001b[90m━━━━━━━━━━━━━━━━━━━━━━━━━━━━━━━━━━━━━━━━\u001b[0m \u001b[32m883.7/883.7 kB\u001b[0m \u001b[31m36.7 MB/s\u001b[0m eta \u001b[36m0:00:00\u001b[0m\n",
            "\u001b[2K   \u001b[90m━━━━━━━━━━━━━━━━━━━━━━━━━━━━━━━━━━━━━━━━\u001b[0m \u001b[32m664.8/664.8 MB\u001b[0m \u001b[31m1.8 MB/s\u001b[0m eta \u001b[36m0:00:00\u001b[0m\n",
            "\u001b[2K   \u001b[90m━━━━━━━━━━━━━━━━━━━━━━━━━━━━━━━━━━━━━━━━\u001b[0m \u001b[32m211.5/211.5 MB\u001b[0m \u001b[31m5.5 MB/s\u001b[0m eta \u001b[36m0:00:00\u001b[0m\n",
            "\u001b[2K   \u001b[90m━━━━━━━━━━━━━━━━━━━━━━━━━━━━━━━━━━━━━━━━\u001b[0m \u001b[32m56.3/56.3 MB\u001b[0m \u001b[31m15.7 MB/s\u001b[0m eta \u001b[36m0:00:00\u001b[0m\n",
            "\u001b[2K   \u001b[90m━━━━━━━━━━━━━━━━━━━━━━━━━━━━━━━━━━━━━━━━\u001b[0m \u001b[32m127.9/127.9 MB\u001b[0m \u001b[31m9.8 MB/s\u001b[0m eta \u001b[36m0:00:00\u001b[0m\n",
            "\u001b[2K   \u001b[90m━━━━━━━━━━━━━━━━━━━━━━━━━━━━━━━━━━━━━━━━\u001b[0m \u001b[32m207.5/207.5 MB\u001b[0m \u001b[31m5.9 MB/s\u001b[0m eta \u001b[36m0:00:00\u001b[0m\n",
            "\u001b[2K   \u001b[90m━━━━━━━━━━━━━━━━━━━━━━━━━━━━━━━━━━━━━━━━\u001b[0m \u001b[32m21.1/21.1 MB\u001b[0m \u001b[31m48.4 MB/s\u001b[0m eta \u001b[36m0:00:00\u001b[0m\n",
            "\u001b[2K   \u001b[90m━━━━━━━━━━━━━━━━━━━━━━━━━━━━━━━━━━━━━━━━\u001b[0m \u001b[32m50.9/50.9 kB\u001b[0m \u001b[31m2.1 MB/s\u001b[0m eta \u001b[36m0:00:00\u001b[0m\n",
            "\u001b[?25h"
          ]
        }
      ],
      "source": [
        "!pip install -q langchain langchain-community transformers accelerate sentencepiece"
      ]
    },
    {
      "cell_type": "code",
      "execution_count": null,
      "metadata": {
        "id": "O3Rhz4nHOw-J"
      },
      "outputs": [],
      "source": [
        "from langchain_core.tools import tool, InjectedToolArg\n",
        "from langchain_core.messages import HumanMessage\n",
        "from langchain_core.runnables import RunnableSequence\n",
        "from langchain_community.llms import HuggingFacePipeline\n",
        "from transformers import pipeline\n",
        "import requests\n",
        "import json\n",
        "from typing import Annotated"
      ]
    },
    {
      "cell_type": "code",
      "execution_count": null,
      "metadata": {
        "colab": {
          "base_uri": "https://localhost:8080/",
          "height": 258,
          "referenced_widgets": [
            "be55c528d2da47c99b2bfb00ef745a0b",
            "df545f0a2d664ed8b395e34c3a2a9901",
            "464aae4230dd4869af06097f99c7eafb",
            "d491a87dd8614b4c875e6d02ca75e451",
            "fda42a89df304fc2b410eb0ffe6128e3",
            "a0c05fea6ba1437a8090df90aedb3e0f",
            "89558e6f061b4ea8a83f5e209d2bd8e9",
            "a594f3e13c3442d8b7c28df501917c3a",
            "f5e07705b4704828a50889bc063d2573",
            "71da14882a4b46989d05f892f94a1156",
            "14c554ce4254490fbd7930be2c8e9595",
            "a09427047f434895976d3a445b9b0601",
            "00aea9e6740f42fa92b91c2baa3c93f1",
            "f0be117290344b41b7422da537f6ccb0",
            "6af7477cbf754ec282ab0ecbae3c3bf5",
            "48c6f045d9284d4a85ad7f980d9a80f8",
            "80def81ae4c04363a97d2c7909568776",
            "dc7212410d1348cf9d5c0eb3abdb2116",
            "c51ec651090f4aac8c73313acccec0b4",
            "73fa2146270443f2bc5339da5ac73ed5",
            "44275ea2deef47f2bc79db6f262820ae",
            "a3b416d8345b45b292b0e5ebef9c174c",
            "0f117ee8e7fe4769aef8f7a4c9a98381",
            "ff92bf01767c43dda066945722c12c08",
            "86844874ce0845ae8642dbbf813e9674",
            "d348b6a868994a10960524deafc560f4",
            "7e37b0e2fc9c4cbfaf843f1c2d472173",
            "4a82300c672440e29af6b9fff5d48655",
            "1eec8bf77ecf450eb6587802cc11fb2d",
            "c4eff17b83454a58b498d22560551471",
            "75edf9b10428447284318fe7f26c85b9",
            "3acdd8898dd144c09f61f73d799d08f5",
            "ac2a2e832e18401ea9c5918d2ad115c8",
            "942a895a1db94583a06b5bbfce9d22e2",
            "43f3ca49a4264a72bd3692dc95cc4b86",
            "e051ea1140fa4eeaaa89894d1dfc3e53",
            "e92906aed30c4ff3a829231106414b55",
            "78e4f3ef8f55472fb0e90ef48c39dabf",
            "a27e2e17f7404da1a8f10613acf18c40",
            "36f60c0abc0947fb87efd148bea3cf18",
            "b65d2626f52a4f0b89e0ebbba47e76c8",
            "7ccdf06c1f34439792a949c2e42e2746",
            "4097dd78b0cf43d3bc59eaf112de092d",
            "c39f583f4eb24e86b151bd06ab3f3010",
            "04b48dda4ccf49e99d693b00d4688fb8",
            "c2400028615d48f8a85c2d2da3276bc0",
            "f38cb3834218442ba6cb650f52e4c831",
            "c9d0b88803a743aea0f8d1659dc999ce",
            "bfd2f945d1ac49e08b8cbe82df3e0239",
            "d5c81c6aea6f46898a3898f66459885f",
            "c795f934de6c42ceb8bac7485639ea41",
            "e5a4e564386541489fc7ae2275090a1e",
            "cff37500c0684b32a19687e340db3990",
            "1462425772b247009e378e3c22b183bd",
            "7844032d38a34198bfbb8b4ced533751",
            "baed82fece2548df9934df76d266942d",
            "584980c9b5ee4ccd81bf34ff819a93de",
            "7a1bf4b477954014be111a10a793f699",
            "71e3dfc671ef4eab9c2d89cfd5b66dbd",
            "da7ccbd8e7d3420a90adaa451934d40f",
            "968487ea9fb942329640aae3678cf9be",
            "5077d646d79648c7ba8698675e59f3c1",
            "dfa03b2f45a2416f9fc5d09f7d5e86de",
            "f6d344d65bd34bd398ba3efb7072f18e",
            "fc0828d796914118905f1c4f7715afb4",
            "b756bb027a9642aeb9278942f4dae720",
            "e7a2ee1b971b42b58e8300484e25c634",
            "cee21af5d08440aa8e63d16b5a3678bd",
            "7aef9c5af1d4464a9506a4e5944def0a",
            "171b0a53a1b74e48b484c99e873e8bcc",
            "abd57ec2af5540a796ff9fde677f68e6",
            "a55b46489b3f4c7fac1eb46a6a09434b",
            "e6774c7079c9495fb232a21dc903bfc5",
            "e7580ff14c154d6a8a71fe070f928285",
            "8cd3499de90e424588f0fff812c48c72",
            "b1f24e5946974fd98edd33ba9ef0cee0",
            "a28b2bf8d66246578aa6470560445bdf"
          ]
        },
        "id": "hu2qWmmTPdE4",
        "outputId": "5259c984-4d9f-404c-8d7f-a90b5cd84b97"
      },
      "outputs": [
        {
          "data": {
            "application/vnd.jupyter.widget-view+json": {
              "model_id": "be55c528d2da47c99b2bfb00ef745a0b",
              "version_major": 2,
              "version_minor": 0
            },
            "text/plain": [
              "config.json:   0%|          | 0.00/1.40k [00:00<?, ?B/s]"
            ]
          },
          "metadata": {},
          "output_type": "display_data"
        },
        {
          "data": {
            "application/vnd.jupyter.widget-view+json": {
              "model_id": "a09427047f434895976d3a445b9b0601",
              "version_major": 2,
              "version_minor": 0
            },
            "text/plain": [
              "model.safetensors:   0%|          | 0.00/308M [00:00<?, ?B/s]"
            ]
          },
          "metadata": {},
          "output_type": "display_data"
        },
        {
          "data": {
            "application/vnd.jupyter.widget-view+json": {
              "model_id": "0f117ee8e7fe4769aef8f7a4c9a98381",
              "version_major": 2,
              "version_minor": 0
            },
            "text/plain": [
              "generation_config.json:   0%|          | 0.00/147 [00:00<?, ?B/s]"
            ]
          },
          "metadata": {},
          "output_type": "display_data"
        },
        {
          "data": {
            "application/vnd.jupyter.widget-view+json": {
              "model_id": "942a895a1db94583a06b5bbfce9d22e2",
              "version_major": 2,
              "version_minor": 0
            },
            "text/plain": [
              "tokenizer_config.json:   0%|          | 0.00/2.54k [00:00<?, ?B/s]"
            ]
          },
          "metadata": {},
          "output_type": "display_data"
        },
        {
          "data": {
            "application/vnd.jupyter.widget-view+json": {
              "model_id": "04b48dda4ccf49e99d693b00d4688fb8",
              "version_major": 2,
              "version_minor": 0
            },
            "text/plain": [
              "spiece.model:   0%|          | 0.00/792k [00:00<?, ?B/s]"
            ]
          },
          "metadata": {},
          "output_type": "display_data"
        },
        {
          "data": {
            "application/vnd.jupyter.widget-view+json": {
              "model_id": "baed82fece2548df9934df76d266942d",
              "version_major": 2,
              "version_minor": 0
            },
            "text/plain": [
              "tokenizer.json:   0%|          | 0.00/2.42M [00:00<?, ?B/s]"
            ]
          },
          "metadata": {},
          "output_type": "display_data"
        },
        {
          "data": {
            "application/vnd.jupyter.widget-view+json": {
              "model_id": "e7a2ee1b971b42b58e8300484e25c634",
              "version_major": 2,
              "version_minor": 0
            },
            "text/plain": [
              "special_tokens_map.json:   0%|          | 0.00/2.20k [00:00<?, ?B/s]"
            ]
          },
          "metadata": {},
          "output_type": "display_data"
        },
        {
          "name": "stderr",
          "output_type": "stream",
          "text": [
            "Device set to use cpu\n"
          ]
        }
      ],
      "source": [
        "# Load CPU-friendly model from HuggingFace\n",
        "llm_pipeline = pipeline(\n",
        "    \"text2text-generation\",\n",
        "    model=\"google/flan-t5-small\",\n",
        "    max_new_tokens=128,\n",
        "    device=\"cpu\"\n",
        ")\n",
        "\n",
        "llm = HuggingFacePipeline(pipeline=llm_pipeline)"
      ]
    },
    {
      "cell_type": "code",
      "execution_count": null,
      "metadata": {
        "id": "k10YLykOPrng"
      },
      "outputs": [],
      "source": [
        "# Define a simple math tool\n",
        "@tool\n",
        "def multiply(a: int, b: int) -> int:\n",
        "    \"\"\"Returns the product of two numbers a and b\"\"\"\n",
        "    return a * b"
      ]
    },
    {
      "cell_type": "code",
      "execution_count": null,
      "metadata": {
        "colab": {
          "base_uri": "https://localhost:8080/"
        },
        "id": "fS7ngqP1Q3oL",
        "outputId": "ccf31d91-1864-4515-9196-1a518b94ea22"
      },
      "outputs": [
        {
          "name": "stdout",
          "output_type": "stream",
          "text": [
            "Multiply Result: 12\n"
          ]
        }
      ],
      "source": [
        "# Call the tool\n",
        "print(\"Multiply Result:\", multiply.invoke({'a': 3, 'b': 4}))"
      ]
    },
    {
      "cell_type": "code",
      "execution_count": null,
      "metadata": {
        "colab": {
          "base_uri": "https://localhost:8080/",
          "height": 35
        },
        "id": "5FGG83pXQ8XR",
        "outputId": "470888a9-dc8c-4ffc-f821-8639c61ee98f"
      },
      "outputs": [
        {
          "data": {
            "application/vnd.google.colaboratory.intrinsic+json": {
              "type": "string"
            },
            "text/plain": [
              "'multiply'"
            ]
          },
          "execution_count": 17,
          "metadata": {},
          "output_type": "execute_result"
        }
      ],
      "source": [
        "multiply.name"
      ]
    },
    {
      "cell_type": "code",
      "execution_count": null,
      "metadata": {
        "colab": {
          "base_uri": "https://localhost:8080/",
          "height": 35
        },
        "id": "qMAHcFLoRCH6",
        "outputId": "ef7ffaee-110d-4d56-a6f9-ae44b909888e"
      },
      "outputs": [
        {
          "data": {
            "application/vnd.google.colaboratory.intrinsic+json": {
              "type": "string"
            },
            "text/plain": [
              "'Returns the product of two numbers a and b'"
            ]
          },
          "execution_count": 18,
          "metadata": {},
          "output_type": "execute_result"
        }
      ],
      "source": [
        "multiply.description"
      ]
    },
    {
      "cell_type": "code",
      "execution_count": null,
      "metadata": {
        "colab": {
          "base_uri": "https://localhost:8080/"
        },
        "id": "0IJcgWylREl0",
        "outputId": "3c48d8ad-d0f3-4f64-f757-358bbf311679"
      },
      "outputs": [
        {
          "data": {
            "text/plain": [
              "{'a': {'title': 'A', 'type': 'integer'},\n",
              " 'b': {'title': 'B', 'type': 'integer'}}"
            ]
          },
          "execution_count": 19,
          "metadata": {},
          "output_type": "execute_result"
        }
      ],
      "source": [
        "multiply.args"
      ]
    },
    {
      "cell_type": "code",
      "execution_count": null,
      "metadata": {
        "id": "BKjDtp3QRKtR"
      },
      "outputs": [],
      "source": [
        "@tool\n",
        "def get_conversion_factor(base_currency: str, target_currency: str) -> float:\n",
        "    \"\"\"\n",
        "    Fetch conversion rate from base to target currency using public API\n",
        "    \"\"\"\n",
        "    url = f'https://v6.exchangerate-api.com/v6/c754eab14ffab33112e380ca/pair/{base_currency}/{target_currency}'\n",
        "    res = requests.get(url)\n",
        "    return res.json()"
      ]
    },
    {
      "cell_type": "code",
      "execution_count": null,
      "metadata": {
        "id": "1h6qOICqRRjd"
      },
      "outputs": [],
      "source": [
        "@tool\n",
        "def convert(base_currency_value: int, conversion_rate: Annotated[float, InjectedToolArg]) -> float:\n",
        "    \"\"\"Calculate converted value using a conversion rate\"\"\"\n",
        "    return base_currency_value * conversion_rate"
      ]
    },
    {
      "cell_type": "code",
      "execution_count": null,
      "metadata": {
        "id": "WWk2m-8QThsv"
      },
      "outputs": [],
      "source": [
        "# Manual Tool Dispatcher\n",
        "def tool_dispatcher(user_input: str):\n",
        "    if \"multiply\" in user_input.lower():\n",
        "        # Naive param extraction\n",
        "        numbers = [int(s) for s in user_input.split() if s.isdigit()]\n",
        "        if len(numbers) >= 2:\n",
        "            return multiply.invoke({\"a\": numbers[0], \"b\": numbers[1]})\n",
        "    elif \"convert\" in user_input.lower():\n",
        "        if \"inr\" in user_input.lower() and \"usd\" in user_input.lower():\n",
        "            rate_data = get_conversion_factor.invoke({'base_currency': 'INR', 'target_currency': 'USD'})\n",
        "            rate = json.loads(rate_data.content).get('conversion_rate', 0)\n",
        "            amount = [int(s) for s in user_input.split() if s.isdigit()]\n",
        "            if amount:\n",
        "                return convert.invoke({'base_currency_value': amount[0], 'conversion_rate': rate})\n",
        "    return \"No matching tool found.\""
      ]
    },
    {
      "cell_type": "code",
      "execution_count": null,
      "metadata": {
        "colab": {
          "base_uri": "https://localhost:8080/"
        },
        "id": "EzqOtNQVTl_5",
        "outputId": "4b85434e-664a-4932-e291-32fa8223a639"
      },
      "outputs": [
        {
          "name": "stdout",
          "output_type": "stream",
          "text": [
            "User: Can you multiply 7 and 12?\n",
            "LLM: no\n",
            "Tool Output: No matching tool found.\n"
          ]
        }
      ],
      "source": [
        "# Run a few examples\n",
        "\n",
        "# Example 1: Multiplication\n",
        "query1 = \"Can you multiply 7 and 12?\"\n",
        "print(\"User:\", query1)\n",
        "llm_response1 = llm.invoke(query1)\n",
        "print(\"LLM:\", llm_response1)\n",
        "tool_output1 = tool_dispatcher(query1)\n",
        "print(\"Tool Output:\", tool_output1)"
      ]
    },
    {
      "cell_type": "code",
      "execution_count": null,
      "metadata": {
        "id": "bn0jhj5RTqTk"
      },
      "outputs": [],
      "source": [
        "import re\n",
        "\n",
        "def tool_dispatcher(user_input: str):\n",
        "    input_lower = user_input.lower()\n",
        "\n",
        "    # Match multiplication intent\n",
        "    if \"multiply\" in input_lower:\n",
        "        numbers = list(map(int, re.findall(r'\\d+', user_input)))\n",
        "        if len(numbers) >= 2:\n",
        "            return multiply.invoke({\"a\": numbers[0], \"b\": numbers[1]})\n",
        "        else:\n",
        "            return \"Found 'multiply' but couldn't extract two numbers.\"\n",
        "\n",
        "    # Match currency conversion\n",
        "    if \"convert\" in input_lower and \"inr\" in input_lower and \"usd\" in input_lower:\n",
        "        amount = list(map(int, re.findall(r'\\d+', user_input)))\n",
        "        if amount:\n",
        "            # Get exchange rate\n",
        "            rate_data = get_conversion_factor.invoke({'base_currency': 'INR', 'target_currency': 'USD'})\n",
        "            rate = rate_data.get('conversion_rate', 0)\n",
        "            return convert.invoke({'base_currency_value': amount[0], 'conversion_rate': rate})\n",
        "        else:\n",
        "            return \"Couldn't find amount to convert.\"\n",
        "\n",
        "    return \"No matching tool found.\""
      ]
    },
    {
      "cell_type": "code",
      "execution_count": null,
      "metadata": {
        "colab": {
          "base_uri": "https://localhost:8080/"
        },
        "id": "AswpKmq4V0x0",
        "outputId": "a8d0ae15-b4c9-483f-d849-759a895e2fa2"
      },
      "outputs": [
        {
          "name": "stdout",
          "output_type": "stream",
          "text": [
            "User: Can you multiply 7 and 12?\n",
            "Final Response: Yes, 7 and 12? is 84.\n"
          ]
        }
      ],
      "source": [
        "query = \"Can you multiply 7 and 12?\"\n",
        "print(\"User:\", query)\n",
        "\n",
        "llm_output = llm.invoke(query)\n",
        "tool_result = tool_dispatcher(query)\n",
        "\n",
        "# Construct final response\n",
        "if isinstance(tool_result, int):\n",
        "    response = f\"Yes, {query.split('multiply')[1].strip()} is {tool_result}.\"\n",
        "else:\n",
        "    response = f\"LLM said: {llm_output}\\nTool Output: {tool_result}\"\n",
        "\n",
        "print(\"Final Response:\", response)\n",
        "\n"
      ]
    },
    {
      "cell_type": "code",
      "execution_count": null,
      "metadata": {
        "colab": {
          "base_uri": "https://localhost:8080/"
        },
        "id": "bozatBS7V3S0",
        "outputId": "514ddcb6-6966-480d-b2a3-5a6f418ab674"
      },
      "outputs": [
        {
          "name": "stdout",
          "output_type": "stream",
          "text": [
            "User: Can you convert 100 INR to USD?\n",
            "Final Response: Yes, 100 INR is approximately 1.15 USD.\n"
          ]
        }
      ],
      "source": [
        "query = \"Can you convert 100 INR to USD?\"\n",
        "print(\"User:\", query)\n",
        "\n",
        "llm_output = llm.invoke(query)\n",
        "tool_result = tool_dispatcher(query)\n",
        "\n",
        "# Construct final response\n",
        "if isinstance(tool_result, float):\n",
        "    amount = re.findall(r'\\d+', query)\n",
        "    response = f\"Yes, {amount[0]} INR is approximately {round(tool_result, 2)} USD.\"\n",
        "else:\n",
        "    response = f\"LLM said: {llm_output}\\nTool Output: {tool_result}\"\n",
        "\n",
        "print(\"Final Response:\", response)\n"
      ]
    },
    {
      "cell_type": "code",
      "execution_count": null,
      "metadata": {
        "id": "YgJwZMFVWhyT"
      },
      "outputs": [],
      "source": []
    }
  ],
  "metadata": {
    "colab": {
      "provenance": [],
      "include_colab_link": true
    },
    "kernelspec": {
      "display_name": "Python 3",
      "name": "python3"
    },
    "language_info": {
      "name": "python"
    }
  },
  "nbformat": 4,
  "nbformat_minor": 0
}